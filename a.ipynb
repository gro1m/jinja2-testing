{
 "cells": [
  {
   "cell_type": "code",
   "execution_count": 1,
   "metadata": {},
   "outputs": [],
   "source": [
    "# https://jinja.palletsprojects.com/en/3.1.x/templates/#assignments"
   ]
  },
  {
   "cell_type": "code",
   "execution_count": 2,
   "metadata": {},
   "outputs": [
    {
     "name": "stdout",
     "output_type": "stream",
     "text": [
      "Dear Jane\n"
     ]
    }
   ],
   "source": [
    "from jinja2 import Template\n",
    "\n",
    "print(Template(\"Dear {{ name }}\").render({\"name\": \"Jane\"}))"
   ]
  },
  {
   "cell_type": "code",
   "execution_count": 3,
   "metadata": {},
   "outputs": [
    {
     "name": "stdout",
     "output_type": "stream",
     "text": [
      "\n",
      "\n",
      "even\n",
      "\n"
     ]
    }
   ],
   "source": [
    "from jinja2 import Template\n",
    "\n",
    "print(\n",
    "    Template(\n",
    "        \"{% set a = 2 %}\\n\"\n",
    "        \"{% if a%2==0 %}\\n\"\n",
    "        '{{ \"even\" }}\\n'\n",
    "        \"{% else %}\\n\"\n",
    "        '{{ \"uneven\" }}\\n'\n",
    "        \"{% endif %}\"\n",
    "    ).render()\n",
    ")"
   ]
  },
  {
   "cell_type": "code",
   "execution_count": 4,
   "metadata": {},
   "outputs": [
    {
     "name": "stdout",
     "output_type": "stream",
     "text": [
      "\u001b[0;31mSignature:\u001b[0m \u001b[0mTemplate\u001b[0m\u001b[0;34m.\u001b[0m\u001b[0mrender\u001b[0m\u001b[0;34m(\u001b[0m\u001b[0mself\u001b[0m\u001b[0;34m,\u001b[0m \u001b[0;34m*\u001b[0m\u001b[0margs\u001b[0m\u001b[0;34m:\u001b[0m \u001b[0mAny\u001b[0m\u001b[0;34m,\u001b[0m \u001b[0;34m**\u001b[0m\u001b[0mkwargs\u001b[0m\u001b[0;34m:\u001b[0m \u001b[0mAny\u001b[0m\u001b[0;34m)\u001b[0m \u001b[0;34m->\u001b[0m \u001b[0mstr\u001b[0m\u001b[0;34m\u001b[0m\u001b[0;34m\u001b[0m\u001b[0m\n",
      "\u001b[0;31mDocstring:\u001b[0m\n",
      "This method accepts the same arguments as the `dict` constructor:\n",
      "A dict, a dict subclass or some keyword arguments.  If no arguments\n",
      "are given the context will be empty.  These two calls do the same::\n",
      "\n",
      "    template.render(knights='that say nih')\n",
      "    template.render({'knights': 'that say nih'})\n",
      "\n",
      "This will return the rendered template as a string.\n",
      "\u001b[0;31mFile:\u001b[0m      ~/opt/anaconda3/envs/j2-env/lib/python3.10/site-packages/jinja2/environment.py\n",
      "\u001b[0;31mType:\u001b[0m      function"
     ]
    }
   ],
   "source": [
    "Template.render?"
   ]
  },
  {
   "cell_type": "code",
   "execution_count": 5,
   "metadata": {},
   "outputs": [],
   "source": [
    "import os\n",
    "os.environ['SKIP']=\"False\""
   ]
  },
  {
   "cell_type": "code",
   "execution_count": 6,
   "metadata": {},
   "outputs": [
    {
     "name": "stdout",
     "output_type": "stream",
     "text": [
      "\n",
      "do not skip\n",
      "\n"
     ]
    }
   ],
   "source": [
    "print(\n",
    "    Template(\n",
    "        \"{% if env['SKIP'] %}\\n\"\n",
    "        '{{ \"do not skip\" }}\\n'\n",
    "        \"{% else %}\\n\"\n",
    "        '{{ \"skip\" }}\\n'\n",
    "        \"{% endif %}\"\n",
    "    ).render(env=os.environ)\n",
    ")"
   ]
  },
  {
   "cell_type": "code",
   "execution_count": 7,
   "metadata": {},
   "outputs": [],
   "source": [
    "import os\n",
    "os.environ['SKIP']=\"True\""
   ]
  },
  {
   "cell_type": "code",
   "execution_count": 8,
   "metadata": {},
   "outputs": [
    {
     "name": "stdout",
     "output_type": "stream",
     "text": [
      "\n",
      "do not skip\n",
      "\n"
     ]
    }
   ],
   "source": [
    "print(\n",
    "    Template(\n",
    "        \"{% if env['SKIP'] == 'True' %}\\n\"\n",
    "        '{{ \"do not skip\" }}\\n'\n",
    "        \"{% else %}\\n\"\n",
    "        '{{ \"skip\" }}\\n'\n",
    "        \"{% endif %}\"\n",
    "    ).render(env=os.environ)\n",
    ")"
   ]
  }
 ],
 "metadata": {
  "kernelspec": {
   "display_name": "j2-env",
   "language": "python",
   "name": "python3"
  },
  "language_info": {
   "codemirror_mode": {
    "name": "ipython",
    "version": 3
   },
   "file_extension": ".py",
   "mimetype": "text/x-python",
   "name": "python",
   "nbconvert_exporter": "python",
   "pygments_lexer": "ipython3",
   "version": "3.10.13"
  }
 },
 "nbformat": 4,
 "nbformat_minor": 2
}
